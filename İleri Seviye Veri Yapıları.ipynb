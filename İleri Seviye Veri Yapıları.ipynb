{
 "cells": [
  {
   "cell_type": "code",
   "execution_count": 11,
   "metadata": {},
   "outputs": [
    {
     "name": "stdout",
     "output_type": "stream",
     "text": [
      "a harfi 5 kere geçiyor\n",
      "b harfi 2 kere geçiyor\n",
      "d harfi 1 kere geçiyor\n",
      "e harfi 8 kere geçiyor\n",
      "g harfi 1 kere geçiyor\n",
      "i harfi 6 kere geçiyor\n",
      "j harfi 1 kere geçiyor\n",
      "l harfi 4 kere geçiyor\n",
      "m harfi 2 kere geçiyor\n",
      "n harfi 1 kere geçiyor\n",
      "o harfi 2 kere geçiyor\n",
      "p harfi 3 kere geçiyor\n",
      "r harfi 6 kere geçiyor\n",
      "s harfi 1 kere geçiyor\n",
      "v harfi 4 kere geçiyor\n",
      "y harfi 3 kere geçiyor\n",
      "ö harfi 1 kere geçiyor\n",
      "ı harfi 2 kere geçiyor\n"
     ]
    }
   ],
   "source": [
    "##### İleri Seviye Veri Yapıları Çalışması #####\n",
    "\n",
    "# Problem 1\n",
    "\n",
    "# String içindeki harflerin frekansını bulunuz\n",
    "\n",
    "s=\"ProgramlamaÖdeviİleriSeviyeVeriYapılarıveObjeleripynb\"\n",
    "\n",
    "\n",
    "s = s.lower()\n",
    "liste=list(s)\n",
    "liste.sort()\n",
    "liste.pop()\n",
    "\n",
    "sözlük= dict()\n",
    "\n",
    "for i in liste:\n",
    "    if i in sözlük:\n",
    "        sözlük[i]+=1\n",
    "\n",
    "    else:\n",
    "        sözlük[i]=1\n",
    "\n",
    "for i in sözlük.keys():\n",
    "    print(\"{} harfi {} kere geçiyor\".format(i,sözlük[i]))"
   ]
  },
  {
   "cell_type": "code",
   "execution_count": 12,
   "metadata": {},
   "outputs": [
    {
     "name": "stdout",
     "output_type": "stream",
     "text": [
      "P : 1\n",
      "r : 6\n",
      "o : 1\n",
      "g : 1\n",
      "a : 5\n",
      "m : 2\n",
      "l : 4\n",
      "Ö : 1\n",
      "d : 1\n",
      "e : 8\n",
      "v : 3\n",
      "i : 5\n",
      "İ : 1\n",
      "S : 1\n",
      "y : 2\n",
      "V : 1\n",
      "Y : 1\n",
      "p : 2\n",
      "ı : 2\n",
      "O : 1\n",
      "b : 2\n",
      "j : 1\n",
      "n : 1\n"
     ]
    }
   ],
   "source": [
    "#çözüm :\n",
    "s =  \"ProgramlamaÖdeviİleriSeviyeVeriYapılarıveObjeleripynb\"\n",
    "frekans = dict()\n",
    "\n",
    "for karakter in s:\n",
    "    if (karakter in frekans):\n",
    "        frekans[karakter] += 1\n",
    "    else:\n",
    "        frekans[karakter] = 1\n",
    "for i,j in frekans.items():\n",
    "    \n",
    "    print(i,\":\",j)"
   ]
  },
  {
   "cell_type": "code",
   "execution_count": null,
   "metadata": {},
   "outputs": [],
   "source": [
    "#Problem 2\n",
    "#\"şiir.txt\" şeklinde bir dosya oluşturun ve içinde şu satırlar yer alsın.\n",
    "\n",
    "#Bu dosyanın herbir satırını okuyun. \n",
    "#Satırların baş harflerini birbirine ekleyerek bir string oluşturun ve bu string'i ekrana yazdırın.\n"
   ]
  },
  {
   "cell_type": "code",
   "execution_count": 13,
   "metadata": {},
   "outputs": [
    {
     "name": "stdout",
     "output_type": "stream",
     "text": [
      "MUSTAFAKEMAL\n"
     ]
    }
   ],
   "source": [
    "string=\"\"\n",
    "with open(\"C:/Users/burcu/şiir.txt\",\"r\",encoding=\"utf-8\") as file:\n",
    "    liste= file.readlines()\n",
    "\n",
    "    for i in liste:\n",
    "        string +=i[0]\n",
    "    print(string)"
   ]
  },
  {
   "cell_type": "code",
   "execution_count": 14,
   "metadata": {},
   "outputs": [
    {
     "name": "stdout",
     "output_type": "stream",
     "text": [
      "coskun.m.murat@gmail.com\n",
      "example@xyz.com\n",
      "kerim@yahoo.com\n"
     ]
    }
   ],
   "source": [
    "#Problem 3\n",
    "#Elinizde \"mailler.txt\" adında , maillerin ve bazı yazıların bulunduğu bir dosya olsun. \n",
    "#Bu dosyanın her bir satırını okuyun ve sadece mail formatına uygun olanları ekrana yazdırın.\n",
    "\n",
    "                    # coskun.m.murat@gmail.com\n",
    "                    # example@xyz.com\n",
    "                    # mustafa.com\n",
    "                    # mustafa@gmail\n",
    "                    # kerim@yahoo.com\n",
    "\n",
    "with open(\"C:/Users/burcu/mailler.txt\",\"r\",encoding=\"utf-8\") as file:\n",
    "    for satır in file :\n",
    "        satır=satır[:-1]\n",
    "        if (satır.endswith(\".com\")) and (\"@\" in satır):\n",
    "            print(satır)"
   ]
  },
  {
   "cell_type": "code",
   "execution_count": 27,
   "metadata": {},
   "outputs": [
    {
     "name": "stdout",
     "output_type": "stream",
     "text": [
      "['Ezgi Dağdeviren', 'Kemal Atatürk', 'Kerim Yılmaz', 'Merve Polat', 'Tarık Öztürk', 'İlkay Dikmen', 'Şükran Kaya']\n"
     ]
    }
   ],
   "source": [
    "#Problem 4 \n",
    "#İki listeden  isim ve soyisimleri birleştirerek , ekrana isim ve soyisimleri *isimlere* göre sıralı bir şekilde yazdırın.\n",
    "\n",
    "isim =[\"Kerim\",\"Tarık\",\"Ezgi\",\"Kemal\",\"İlkay\",\"Şükran\",\"Merve\"]\n",
    "\n",
    "soyisim =[\"Yılmaz\",\"Öztürk\",\"Dağdeviren\",\"Atatürk\",\"Dikmen\",\"Kaya\",\"Polat\"]\n",
    "\n",
    "liste=list()\n",
    "for i, j in zip(isim,soyisim):\n",
    "   liste.append(i+\" \"+j)\n",
    "liste.sort()\n",
    "print(liste)"
   ]
  }
 ],
 "metadata": {
  "kernelspec": {
   "display_name": "Python 3",
   "language": "python",
   "name": "python3"
  },
  "language_info": {
   "codemirror_mode": {
    "name": "ipython",
    "version": 3
   },
   "file_extension": ".py",
   "mimetype": "text/x-python",
   "name": "python",
   "nbconvert_exporter": "python",
   "pygments_lexer": "ipython3",
   "version": "3.8.5"
  }
 },
 "nbformat": 4,
 "nbformat_minor": 4
}
